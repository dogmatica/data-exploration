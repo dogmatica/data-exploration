{
 "cells": [
  {
   "cell_type": "code",
   "execution_count": 1,
   "id": "308d6c8f-6f86-403f-a09e-bc4cfe19bba2",
   "metadata": {},
   "outputs": [],
   "source": [
    "import pandas as pd\n",
    "import numpy as np\n",
    "import matplotlib.pyplot as plt\n",
    "from scipy import stats\n",
    "import seaborn as sns"
   ]
  },
  {
   "cell_type": "code",
   "execution_count": 2,
   "id": "c525368f-37f9-429b-ac29-152d9fed0cf2",
   "metadata": {},
   "outputs": [],
   "source": [
    "df = pd.read_csv('churn_clean.csv',dtype={'locationid':np.int64})"
   ]
  },
  {
   "cell_type": "code",
   "execution_count": 3,
   "id": "be30f505-f069-49dc-933c-00245508efa4",
   "metadata": {},
   "outputs": [],
   "source": [
    "data_slice = df[['Churn', 'Children', 'Age', 'Income', 'Marital', 'Gender', 'Area']]"
   ]
  },
  {
   "cell_type": "code",
   "execution_count": 4,
   "id": "192f1175-9de1-48fe-8efd-8133360ee85f",
   "metadata": {},
   "outputs": [
    {
     "data": {
      "text/html": [
       "<div>\n",
       "<style scoped>\n",
       "    .dataframe tbody tr th:only-of-type {\n",
       "        vertical-align: middle;\n",
       "    }\n",
       "\n",
       "    .dataframe tbody tr th {\n",
       "        vertical-align: top;\n",
       "    }\n",
       "\n",
       "    .dataframe thead th {\n",
       "        text-align: right;\n",
       "    }\n",
       "</style>\n",
       "<table border=\"1\" class=\"dataframe\">\n",
       "  <thead>\n",
       "    <tr style=\"text-align: right;\">\n",
       "      <th></th>\n",
       "      <th>Churn</th>\n",
       "      <th>Children</th>\n",
       "      <th>Age</th>\n",
       "      <th>Income</th>\n",
       "      <th>Marital</th>\n",
       "      <th>Gender</th>\n",
       "      <th>Area</th>\n",
       "    </tr>\n",
       "  </thead>\n",
       "  <tbody>\n",
       "    <tr>\n",
       "      <th>0</th>\n",
       "      <td>No</td>\n",
       "      <td>0</td>\n",
       "      <td>68</td>\n",
       "      <td>28561.99</td>\n",
       "      <td>Widowed</td>\n",
       "      <td>Male</td>\n",
       "      <td>Urban</td>\n",
       "    </tr>\n",
       "    <tr>\n",
       "      <th>1</th>\n",
       "      <td>Yes</td>\n",
       "      <td>1</td>\n",
       "      <td>27</td>\n",
       "      <td>21704.77</td>\n",
       "      <td>Married</td>\n",
       "      <td>Female</td>\n",
       "      <td>Urban</td>\n",
       "    </tr>\n",
       "    <tr>\n",
       "      <th>2</th>\n",
       "      <td>No</td>\n",
       "      <td>4</td>\n",
       "      <td>50</td>\n",
       "      <td>9609.57</td>\n",
       "      <td>Widowed</td>\n",
       "      <td>Female</td>\n",
       "      <td>Urban</td>\n",
       "    </tr>\n",
       "    <tr>\n",
       "      <th>3</th>\n",
       "      <td>No</td>\n",
       "      <td>1</td>\n",
       "      <td>48</td>\n",
       "      <td>18925.23</td>\n",
       "      <td>Married</td>\n",
       "      <td>Male</td>\n",
       "      <td>Suburban</td>\n",
       "    </tr>\n",
       "    <tr>\n",
       "      <th>4</th>\n",
       "      <td>Yes</td>\n",
       "      <td>0</td>\n",
       "      <td>83</td>\n",
       "      <td>40074.19</td>\n",
       "      <td>Separated</td>\n",
       "      <td>Male</td>\n",
       "      <td>Suburban</td>\n",
       "    </tr>\n",
       "    <tr>\n",
       "      <th>...</th>\n",
       "      <td>...</td>\n",
       "      <td>...</td>\n",
       "      <td>...</td>\n",
       "      <td>...</td>\n",
       "      <td>...</td>\n",
       "      <td>...</td>\n",
       "      <td>...</td>\n",
       "    </tr>\n",
       "    <tr>\n",
       "      <th>9995</th>\n",
       "      <td>No</td>\n",
       "      <td>3</td>\n",
       "      <td>23</td>\n",
       "      <td>55723.74</td>\n",
       "      <td>Married</td>\n",
       "      <td>Male</td>\n",
       "      <td>Rural</td>\n",
       "    </tr>\n",
       "    <tr>\n",
       "      <th>9996</th>\n",
       "      <td>No</td>\n",
       "      <td>4</td>\n",
       "      <td>48</td>\n",
       "      <td>34129.34</td>\n",
       "      <td>Divorced</td>\n",
       "      <td>Male</td>\n",
       "      <td>Rural</td>\n",
       "    </tr>\n",
       "    <tr>\n",
       "      <th>9997</th>\n",
       "      <td>No</td>\n",
       "      <td>1</td>\n",
       "      <td>48</td>\n",
       "      <td>45983.43</td>\n",
       "      <td>Never Married</td>\n",
       "      <td>Female</td>\n",
       "      <td>Rural</td>\n",
       "    </tr>\n",
       "    <tr>\n",
       "      <th>9998</th>\n",
       "      <td>No</td>\n",
       "      <td>1</td>\n",
       "      <td>39</td>\n",
       "      <td>16667.58</td>\n",
       "      <td>Separated</td>\n",
       "      <td>Male</td>\n",
       "      <td>Urban</td>\n",
       "    </tr>\n",
       "    <tr>\n",
       "      <th>9999</th>\n",
       "      <td>No</td>\n",
       "      <td>1</td>\n",
       "      <td>28</td>\n",
       "      <td>9020.92</td>\n",
       "      <td>Never Married</td>\n",
       "      <td>Male</td>\n",
       "      <td>Urban</td>\n",
       "    </tr>\n",
       "  </tbody>\n",
       "</table>\n",
       "<p>10000 rows × 7 columns</p>\n",
       "</div>"
      ],
      "text/plain": [
       "     Churn  Children  Age    Income        Marital  Gender      Area\n",
       "0       No         0   68  28561.99        Widowed    Male     Urban\n",
       "1      Yes         1   27  21704.77        Married  Female     Urban\n",
       "2       No         4   50   9609.57        Widowed  Female     Urban\n",
       "3       No         1   48  18925.23        Married    Male  Suburban\n",
       "4      Yes         0   83  40074.19      Separated    Male  Suburban\n",
       "...    ...       ...  ...       ...            ...     ...       ...\n",
       "9995    No         3   23  55723.74        Married    Male     Rural\n",
       "9996    No         4   48  34129.34       Divorced    Male     Rural\n",
       "9997    No         1   48  45983.43  Never Married  Female     Rural\n",
       "9998    No         1   39  16667.58      Separated    Male     Urban\n",
       "9999    No         1   28   9020.92  Never Married    Male     Urban\n",
       "\n",
       "[10000 rows x 7 columns]"
      ]
     },
     "execution_count": 4,
     "metadata": {},
     "output_type": "execute_result"
    }
   ],
   "source": [
    "data_slice"
   ]
  },
  {
   "cell_type": "code",
   "execution_count": 5,
   "id": "fd2cd763-4847-4a31-89c2-7c3d7891b5d4",
   "metadata": {},
   "outputs": [
    {
     "data": {
      "text/html": [
       "<div>\n",
       "<style scoped>\n",
       "    .dataframe tbody tr th:only-of-type {\n",
       "        vertical-align: middle;\n",
       "    }\n",
       "\n",
       "    .dataframe tbody tr th {\n",
       "        vertical-align: top;\n",
       "    }\n",
       "\n",
       "    .dataframe thead th {\n",
       "        text-align: right;\n",
       "    }\n",
       "</style>\n",
       "<table border=\"1\" class=\"dataframe\">\n",
       "  <thead>\n",
       "    <tr style=\"text-align: right;\">\n",
       "      <th>Marital</th>\n",
       "      <th>Divorced</th>\n",
       "      <th>Married</th>\n",
       "      <th>Never Married</th>\n",
       "      <th>Separated</th>\n",
       "      <th>Widowed</th>\n",
       "      <th>All</th>\n",
       "    </tr>\n",
       "    <tr>\n",
       "      <th>Churn</th>\n",
       "      <th></th>\n",
       "      <th></th>\n",
       "      <th></th>\n",
       "      <th></th>\n",
       "      <th></th>\n",
       "      <th></th>\n",
       "    </tr>\n",
       "  </thead>\n",
       "  <tbody>\n",
       "    <tr>\n",
       "      <th>No</th>\n",
       "      <td>1539</td>\n",
       "      <td>1418</td>\n",
       "      <td>1468</td>\n",
       "      <td>1454</td>\n",
       "      <td>1471</td>\n",
       "      <td>7350</td>\n",
       "    </tr>\n",
       "    <tr>\n",
       "      <th>Yes</th>\n",
       "      <td>553</td>\n",
       "      <td>493</td>\n",
       "      <td>488</td>\n",
       "      <td>560</td>\n",
       "      <td>556</td>\n",
       "      <td>2650</td>\n",
       "    </tr>\n",
       "    <tr>\n",
       "      <th>All</th>\n",
       "      <td>2092</td>\n",
       "      <td>1911</td>\n",
       "      <td>1956</td>\n",
       "      <td>2014</td>\n",
       "      <td>2027</td>\n",
       "      <td>10000</td>\n",
       "    </tr>\n",
       "  </tbody>\n",
       "</table>\n",
       "</div>"
      ],
      "text/plain": [
       "Marital  Divorced  Married  Never Married  Separated  Widowed    All\n",
       "Churn                                                               \n",
       "No           1539     1418           1468       1454     1471   7350\n",
       "Yes           553      493            488        560      556   2650\n",
       "All          2092     1911           1956       2014     2027  10000"
      ]
     },
     "execution_count": 5,
     "metadata": {},
     "output_type": "execute_result"
    }
   ],
   "source": [
    "ct_Marital = pd.crosstab(data_slice.Churn, data_slice.Marital, margins=True)\n",
    "ct_Marital"
   ]
  },
  {
   "cell_type": "code",
   "execution_count": 6,
   "id": "34f5bafc-b5e9-4e7c-8005-68b06d05dff2",
   "metadata": {},
   "outputs": [
    {
     "data": {
      "text/html": [
       "<div>\n",
       "<style scoped>\n",
       "    .dataframe tbody tr th:only-of-type {\n",
       "        vertical-align: middle;\n",
       "    }\n",
       "\n",
       "    .dataframe tbody tr th {\n",
       "        vertical-align: top;\n",
       "    }\n",
       "\n",
       "    .dataframe thead th {\n",
       "        text-align: right;\n",
       "    }\n",
       "</style>\n",
       "<table border=\"1\" class=\"dataframe\">\n",
       "  <thead>\n",
       "    <tr style=\"text-align: right;\">\n",
       "      <th>Gender</th>\n",
       "      <th>Female</th>\n",
       "      <th>Male</th>\n",
       "      <th>Nonbinary</th>\n",
       "      <th>All</th>\n",
       "    </tr>\n",
       "    <tr>\n",
       "      <th>Churn</th>\n",
       "      <th></th>\n",
       "      <th></th>\n",
       "      <th></th>\n",
       "      <th></th>\n",
       "    </tr>\n",
       "  </thead>\n",
       "  <tbody>\n",
       "    <tr>\n",
       "      <th>No</th>\n",
       "      <td>3753</td>\n",
       "      <td>3425</td>\n",
       "      <td>172</td>\n",
       "      <td>7350</td>\n",
       "    </tr>\n",
       "    <tr>\n",
       "      <th>Yes</th>\n",
       "      <td>1272</td>\n",
       "      <td>1319</td>\n",
       "      <td>59</td>\n",
       "      <td>2650</td>\n",
       "    </tr>\n",
       "    <tr>\n",
       "      <th>All</th>\n",
       "      <td>5025</td>\n",
       "      <td>4744</td>\n",
       "      <td>231</td>\n",
       "      <td>10000</td>\n",
       "    </tr>\n",
       "  </tbody>\n",
       "</table>\n",
       "</div>"
      ],
      "text/plain": [
       "Gender  Female  Male  Nonbinary    All\n",
       "Churn                                 \n",
       "No        3753  3425        172   7350\n",
       "Yes       1272  1319         59   2650\n",
       "All       5025  4744        231  10000"
      ]
     },
     "execution_count": 6,
     "metadata": {},
     "output_type": "execute_result"
    }
   ],
   "source": [
    "ct_Gender = pd.crosstab(data_slice.Churn, data_slice.Gender, margins=True)\n",
    "ct_Gender"
   ]
  },
  {
   "cell_type": "code",
   "execution_count": 7,
   "id": "53dda9c3-c847-4d0d-9801-b6a6151c2193",
   "metadata": {},
   "outputs": [
    {
     "data": {
      "text/html": [
       "<div>\n",
       "<style scoped>\n",
       "    .dataframe tbody tr th:only-of-type {\n",
       "        vertical-align: middle;\n",
       "    }\n",
       "\n",
       "    .dataframe tbody tr th {\n",
       "        vertical-align: top;\n",
       "    }\n",
       "\n",
       "    .dataframe thead th {\n",
       "        text-align: right;\n",
       "    }\n",
       "</style>\n",
       "<table border=\"1\" class=\"dataframe\">\n",
       "  <thead>\n",
       "    <tr style=\"text-align: right;\">\n",
       "      <th>Area</th>\n",
       "      <th>Rural</th>\n",
       "      <th>Suburban</th>\n",
       "      <th>Urban</th>\n",
       "      <th>All</th>\n",
       "    </tr>\n",
       "    <tr>\n",
       "      <th>Churn</th>\n",
       "      <th></th>\n",
       "      <th></th>\n",
       "      <th></th>\n",
       "      <th></th>\n",
       "    </tr>\n",
       "  </thead>\n",
       "  <tbody>\n",
       "    <tr>\n",
       "      <th>No</th>\n",
       "      <td>2464</td>\n",
       "      <td>2473</td>\n",
       "      <td>2413</td>\n",
       "      <td>7350</td>\n",
       "    </tr>\n",
       "    <tr>\n",
       "      <th>Yes</th>\n",
       "      <td>863</td>\n",
       "      <td>873</td>\n",
       "      <td>914</td>\n",
       "      <td>2650</td>\n",
       "    </tr>\n",
       "    <tr>\n",
       "      <th>All</th>\n",
       "      <td>3327</td>\n",
       "      <td>3346</td>\n",
       "      <td>3327</td>\n",
       "      <td>10000</td>\n",
       "    </tr>\n",
       "  </tbody>\n",
       "</table>\n",
       "</div>"
      ],
      "text/plain": [
       "Area   Rural  Suburban  Urban    All\n",
       "Churn                               \n",
       "No      2464      2473   2413   7350\n",
       "Yes      863       873    914   2650\n",
       "All     3327      3346   3327  10000"
      ]
     },
     "execution_count": 7,
     "metadata": {},
     "output_type": "execute_result"
    }
   ],
   "source": [
    "ct_Area = pd.crosstab(data_slice.Churn, data_slice.Area, margins=True)\n",
    "ct_Area"
   ]
  },
  {
   "cell_type": "code",
   "execution_count": 8,
   "id": "1a66f77b-bfd7-4951-aff4-32c9c42f10f7",
   "metadata": {},
   "outputs": [
    {
     "data": {
      "text/plain": [
       "(5.565780556713389, 0.23400754115227573, 4)"
      ]
     },
     "execution_count": 8,
     "metadata": {},
     "output_type": "execute_result"
    }
   ],
   "source": [
    "obs = np.array([ct_Marital.iloc[0][0:5].values, ct_Marital.iloc[1][0:5].values])\n",
    "stats.chi2_contingency(obs)[0:3]"
   ]
  },
  {
   "cell_type": "code",
   "execution_count": 9,
   "id": "e534a418-b68a-4faa-8f62-1dde2087ad86",
   "metadata": {},
   "outputs": [
    {
     "data": {
      "text/plain": [
       "(7.880065153719115, 0.019447581193944605, 2)"
      ]
     },
     "execution_count": 9,
     "metadata": {},
     "output_type": "execute_result"
    }
   ],
   "source": [
    "obs = np.array([ct_Gender.iloc[0][0:3].values, ct_Gender.iloc[1][0:3].values])\n",
    "stats.chi2_contingency(obs)[0:3]"
   ]
  },
  {
   "cell_type": "code",
   "execution_count": 10,
   "id": "47e7cac8-8c35-4509-8714-cc071696d52b",
   "metadata": {},
   "outputs": [
    {
     "data": {
      "text/plain": [
       "(2.4390738588073266, 0.2953669109921032, 2)"
      ]
     },
     "execution_count": 10,
     "metadata": {},
     "output_type": "execute_result"
    }
   ],
   "source": [
    "obs = np.array([ct_Area.iloc[0][0:3].values, ct_Area.iloc[1][0:3].values])\n",
    "stats.chi2_contingency(obs)[0:3]"
   ]
  },
  {
   "cell_type": "code",
   "execution_count": 11,
   "id": "73d3f5f5-583c-41e9-ae36-be9b5aa129da",
   "metadata": {},
   "outputs": [
    {
     "data": {
      "text/plain": [
       "(array([1124., 1019.,  976.,  997.,  961.,  971.,  974.,  935.,  992.,\n",
       "        1051.]),\n",
       " array([18. , 25.1, 32.2, 39.3, 46.4, 53.5, 60.6, 67.7, 74.8, 81.9, 89. ]),\n",
       " <BarContainer object of 10 artists>)"
      ]
     },
     "execution_count": 11,
     "metadata": {},
     "output_type": "execute_result"
    },
    {
     "data": {
      "image/png": "[encoded data removed]",
      "text/plain": [
       "<Figure size 432x288 with 1 Axes>"
      ]
     },
     "metadata": {
      "needs_background": "light"
     },
     "output_type": "display_data"
    }
   ],
   "source": [
    "plt.hist(data_slice['Age'])"
   ]
  },
  {
   "cell_type": "code",
   "execution_count": 12,
   "id": "f2828eee-9d2a-4e09-a854-24a20ad0bdd8",
   "metadata": {},
   "outputs": [
    {
     "data": {
      "text/plain": [
       "(array([3.822e+03, 3.560e+03, 1.624e+03, 6.570e+02, 2.200e+02, 8.100e+01,\n",
       "        2.600e+01, 5.000e+00, 3.000e+00, 2.000e+00]),\n",
       " array([   348.67 ,  26203.873,  52059.076,  77914.279, 103769.482,\n",
       "        129624.685, 155479.888, 181335.091, 207190.294, 233045.497,\n",
       "        258900.7  ]),\n",
       " <BarContainer object of 10 artists>)"
      ]
     },
     "execution_count": 12,
     "metadata": {},
     "output_type": "execute_result"
    },
    {
     "data": {
      "image/png": "[encoded data removed]",
      "text/plain": [
       "<Figure size 432x288 with 1 Axes>"
      ]
     },
     "metadata": {
      "needs_background": "light"
     },
     "output_type": "display_data"
    }
   ],
   "source": [
    "plt.hist(data_slice['Income'])"
   ]
  },
  {
   "cell_type": "code",
   "execution_count": 13,
   "id": "efac1792-2564-474a-adc2-91102a8e3784",
   "metadata": {},
   "outputs": [
    {
     "data": {
      "text/plain": [
       "<AxesSubplot:xlabel='Gender', ylabel='count'>"
      ]
     },
     "execution_count": 13,
     "metadata": {},
     "output_type": "execute_result"
    },
    {
     "data": {
      "image/png": "[encoded data removed]",
      "text/plain": [
       "<Figure size 432x288 with 1 Axes>"
      ]
     },
     "metadata": {
      "needs_background": "light"
     },
     "output_type": "display_data"
    }
   ],
   "source": [
    "sns.countplot(x=\"Gender\", data=data_slice)"
   ]
  },
  {
   "cell_type": "code",
   "execution_count": 14,
   "id": "de8d6886-194a-4813-a35b-0f64f28bb6f7",
   "metadata": {},
   "outputs": [
    {
     "data": {
      "text/plain": [
       "<AxesSubplot:xlabel='Marital', ylabel='count'>"
      ]
     },
     "execution_count": 14,
     "metadata": {},
     "output_type": "execute_result"
    },
    {
     "data": {
      "image/png": "[encoded data removed]",
      "text/plain": [
       "<Figure size 432x288 with 1 Axes>"
      ]
     },
     "metadata": {
      "needs_background": "light"
     },
     "output_type": "display_data"
    }
   ],
   "source": [
    "sns.countplot(x=\"Marital\", data=data_slice)"
   ]
  },
  {
   "cell_type": "code",
   "execution_count": 15,
   "id": "abbdca54-11a8-433d-b95c-a0b1157ab77f",
   "metadata": {},
   "outputs": [
    {
     "data": {
      "text/plain": [
       "<AxesSubplot:xlabel='Age', ylabel='Income'>"
      ]
     },
     "execution_count": 15,
     "metadata": {},
     "output_type": "execute_result"
    },
    {
     "data": {
      "image/png": "[encoded data removed]",
      "text/plain": [
       "<Figure size 432x288 with 1 Axes>"
      ]
     },
     "metadata": {
      "needs_background": "light"
     },
     "output_type": "display_data"
    }
   ],
   "source": [
    "biv_cont_data = data_slice[['Age', 'Income']]\n",
    "sns.scatterplot(x=\"Age\", y=\"Income\", data=biv_cont_data)"
   ]
  },
  {
   "cell_type": "code",
   "execution_count": 16,
   "id": "5baecf13-6304-48f1-ac79-35cb0af69a17",
   "metadata": {},
   "outputs": [
    {
     "data": {
      "text/plain": [
       "<seaborn.axisgrid.FacetGrid at 0x27d78cb1970>"
      ]
     },
     "execution_count": 16,
     "metadata": {},
     "output_type": "execute_result"
    },
    {
     "data": {
      "image/png": "[encoded data removed]",
      "text/plain": [
       "<Figure size 447.5x360 with 1 Axes>"
      ]
     },
     "metadata": {
      "needs_background": "light"
     },
     "output_type": "display_data"
    }
   ],
   "source": [
    "biv_cat_data = data_slice[['Gender', 'Marital']]\n",
    "sns.displot(biv_cat_data, x='Marital', hue='Gender', multiple='stack')"
   ]
  },
  {
   "cell_type": "code",
   "execution_count": null,
   "id": "b91a562f-08c9-408f-8858-03a994d90251",
   "metadata": {},
   "outputs": [],
   "source": []
  }
 ],
 "metadata": {
  "kernelspec": {
   "display_name": "Python 3",
   "language": "python",
   "name": "python3"
  },
  "language_info": {
   "codemirror_mode": {
    "name": "ipython",
    "version": 3
   },
   "file_extension": ".py",
   "mimetype": "text/x-python",
   "name": "python",
   "nbconvert_exporter": "python",
   "pygments_lexer": "ipython3",
   "version": "3.8.8"
  }
 },
 "nbformat": 4,
 "nbformat_minor": 5
}
